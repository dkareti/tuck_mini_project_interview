{
 "cells": [
  {
   "cell_type": "markdown",
   "id": "531afb97",
   "metadata": {},
   "source": [
    "* This file is designed to test the functionality of the modules before developing the python script"
   ]
  },
  {
   "cell_type": "code",
   "execution_count": 2,
   "id": "7d51b6ed",
   "metadata": {},
   "outputs": [],
   "source": [
    "import json\n",
    "import os"
   ]
  },
  {
   "cell_type": "code",
   "execution_count": null,
   "id": "570b9ad6",
   "metadata": {},
   "outputs": [],
   "source": [
    "\"\"\"\n",
    "Sample data:\n",
    "{\n",
    "\"company\": \"Google Classroom\",\n",
    "\"matrix_cell\": \"3,4\",\n",
    "\"gptOutput\": \"Attached is the output generated regarding your company, ABC LLC, and Google Classroom.\\n\\n\n",
    "Google Classroom, a core component of Google’s education ecosystem, provides cloud-based learning management tools integrated with Google Workspace for Education. ABC LLC, as provided, is a company seeking acquisition and operates in the education technology sector with offerings that likely include software solutions, student engagement analytics, and platform integrations for learning systems. No record of an existing transaction between ABC LLC and Google Classroom or its parent company Alphabet Inc. was found as of October 2025; therefore, this is a hypothetical M&A analysis.\\n\\nA potential acquisition of ABC LLC by Google Classroom could yield significant strategic benefits. First, ABC’s products could strengthen Google Classroom’s learning management capabilities by integrating complementary analytics or assessment tools. Second, the acquisition could accelerate Google Classroom’s innovation pipeline through ABC’s proprietary technology, enabling deeper personalization and data-driven learning. Third, combining ABC’s partnerships with educational institutions and Google Classroom’s scale could enhance ecosystem stickiness and increase adoption rates within the K–12 and higher education markets.\\n\\nIn terms of products and services, Google Classroom’s core offerings include classroom management, assignment workflows, student-teacher communication, and integration with third-party educational content through Google Workspace. ABC LLC’s portfolio appears to include complementary or adjacent educational technology solutions such as learning analytics, student performance tracking, or content management APIs. These offerings would align with Google Classroom’s infrastructure, making ABC’s technology complementary rather than identical, creating potential for platform expansion and feature enhancement.\\n\\nRegarding customers, Google Classroom primarily serves educational institutions, teachers, and students globally, with a focus on both K–12 and higher education segments. If ABC LLC serves similar customers—such as schools, universities, or education administrators—there would be significant overlap, placing this transaction in the “same customer” category. However, if ABC focuses on adjacent segments such as corporate training or educational publishers, then the customer bases would be considered “different.” Based on typical education technology positioning, a partial overlap is likely, implying both same and different customer relationships.\\n\\nApplicable Cells of The M&A Matrix™\\n\\n[INSERT M&A MATRIX HERE]\\n\\nThis potential transaction would fall under Cell 3 and Cell 4 of The M&A Matrix™. In Cell 3 (complementary/adjacent products and same customers), synergies would stem from enhancing Google Classroom’s platform with ABC’s complementary technology for existing users. This could improve retention and engagement while reducing switching costs for institutions. In Cell 4 (complementary/adjacent products and different customers), the synergy lies in expanding into new customer segments—particularly in corporate education or alternative learning environments—using Google’s distribution and brand strength to cross-sell ABC’s tools. Both cells suggest strategic and operational synergies rather than purely financial ones.\\n\\nIn conclusion, a Google Classroom acquisition of ABC LLC would represent a strategic M&A opportunity focused on technology integration and market expansion within the education technology landscape. The deal would fit best within complementary acquisition logic, generating long-term value through feature differentiation and cross-segment expansion rather than cost-based efficiencies.\"\n",
    "}\n",
    "\"\"\""
   ]
  },
  {
   "cell_type": "code",
   "execution_count": 3,
   "id": "ccdc9eab",
   "metadata": {},
   "outputs": [],
   "source": [
    "#parse the fields \n",
    "\n",
    "with open('test.json', 'r') as file:\n",
    "    data = json.load(file)\n",
    "\n"
   ]
  },
  {
   "cell_type": "code",
   "execution_count": 4,
   "id": "a928267c",
   "metadata": {},
   "outputs": [
    {
     "name": "stdout",
     "output_type": "stream",
     "text": [
      "Attached is the output generated regarding your company, ABC LLC, and Google Classroom.\n",
      "\n",
      "Google Classroom, a core component of Google’s education ecosystem, provides cloud-based learning management tools integrated with Google Workspace for Education. ABC LLC, as provided, is a company seeking acquisition and operates in the education technology sector with offerings that likely include software solutions, student engagement analytics, and platform integrations for learning systems. No record of an existing transaction between ABC LLC and Google Classroom or its parent company Alphabet Inc. was found as of October 2025; therefore, this is a hypothetical M&A analysis.\n",
      "\n",
      "A potential acquisition of ABC LLC by Google Classroom could yield significant strategic benefits. First, ABC’s products could strengthen Google Classroom’s learning management capabilities by integrating complementary analytics or assessment tools. Second, the acquisition could accelerate Google Classroom’s innovation pipeline through ABC’s proprietary technology, enabling deeper personalization and data-driven learning. Third, combining ABC’s partnerships with educational institutions and Google Classroom’s scale could enhance ecosystem stickiness and increase adoption rates within the K–12 and higher education markets.\n",
      "\n",
      "In terms of products and services, Google Classroom’s core offerings include classroom management, assignment workflows, student-teacher communication, and integration with third-party educational content through Google Workspace. ABC LLC’s portfolio appears to include complementary or adjacent educational technology solutions such as learning analytics, student performance tracking, or content management APIs. These offerings would align with Google Classroom’s infrastructure, making ABC’s technology complementary rather than identical, creating potential for platform expansion and feature enhancement.\n",
      "\n",
      "Regarding customers, Google Classroom primarily serves educational institutions, teachers, and students globally, with a focus on both K–12 and higher education segments. If ABC LLC serves similar customers—such as schools, universities, or education administrators—there would be significant overlap, placing this transaction in the “same customer” category. However, if ABC focuses on adjacent segments such as corporate training or educational publishers, then the customer bases would be considered “different.” Based on typical education technology positioning, a partial overlap is likely, implying both same and different customer relationships.\n",
      "\n",
      "Applicable Cells of The M&A Matrix™\n",
      "\n",
      "[INSERT M&A MATRIX HERE]\n",
      "\n",
      "This potential transaction would fall under Cell 3 and Cell 4 of The M&A Matrix™. In Cell 3 (complementary/adjacent products and same customers), synergies would stem from enhancing Google Classroom’s platform with ABC’s complementary technology for existing users. This could improve retention and engagement while reducing switching costs for institutions. In Cell 4 (complementary/adjacent products and different customers), the synergy lies in expanding into new customer segments—particularly in corporate education or alternative learning environments—using Google’s distribution and brand strength to cross-sell ABC’s tools. Both cells suggest strategic and operational synergies rather than purely financial ones.\n",
      "\n",
      "In conclusion, a Google Classroom acquisition of ABC LLC would represent a strategic M&A opportunity focused on technology integration and market expansion within the education technology landscape. The deal would fit best within complementary acquisition logic, generating long-term value through feature differentiation and cross-segment expansion rather than cost-based efficiencies.\n"
     ]
    }
   ],
   "source": [
    "#access the 'gptOutput' field\n",
    "\n",
    "print(data['gptOutput'])"
   ]
  },
  {
   "cell_type": "code",
   "execution_count": 5,
   "id": "314e091c",
   "metadata": {},
   "outputs": [
    {
     "name": "stdout",
     "output_type": "stream",
     "text": [
      "<class 'str'>\n"
     ]
    }
   ],
   "source": [
    "print(type(data['gptOutput']))"
   ]
  },
  {
   "cell_type": "code",
   "execution_count": null,
   "id": "b8acd9b2",
   "metadata": {},
   "outputs": [],
   "source": []
  }
 ],
 "metadata": {
  "kernelspec": {
   "display_name": "Python 3",
   "language": "python",
   "name": "python3"
  },
  "language_info": {
   "codemirror_mode": {
    "name": "ipython",
    "version": 3
   },
   "file_extension": ".py",
   "mimetype": "text/x-python",
   "name": "python",
   "nbconvert_exporter": "python",
   "pygments_lexer": "ipython3",
   "version": "3.10.11"
  }
 },
 "nbformat": 4,
 "nbformat_minor": 5
}
